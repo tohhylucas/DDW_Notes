{
 "cells": [
  {
   "cell_type": "markdown",
   "id": "7d2cbf68",
   "metadata": {},
   "source": [
    "<h1 style='color:blue'>Cohort 1.1 Notes</h1>"
   ]
  },
  {
   "cell_type": "code",
   "execution_count": 4,
   "id": "35bfdf4e",
   "metadata": {
    "scrolled": false
   },
   "outputs": [
    {
     "name": "stdout",
     "output_type": "stream",
     "text": [
      "<class 'float'>\n",
      "<class 'int'>\n"
     ]
    }
   ],
   "source": [
    "# Usage of '/' always returns a float\n",
    "print(type(4/2))\n",
    "\n",
    "# If you want to specifically return an int, use '//'\n",
    "print(type(4//2))"
   ]
  },
  {
   "cell_type": "code",
   "execution_count": 13,
   "id": "a9f12f17",
   "metadata": {},
   "outputs": [
    {
     "name": "stdout",
     "output_type": "stream",
     "text": [
      "5\n",
      "True False\n",
      "0\n"
     ]
    }
   ],
   "source": [
    "z = 4 + True\n",
    "print(z)\n",
    "\n",
    "# True is actually 1, False is 0\n",
    "print(True,False)\n",
    "print(True*False)\n",
    "\n",
    "# False ** False = 1 because 0 ** 0 = 1 -> Limit of x**x as x tends to 0"
   ]
  },
  {
   "cell_type": "code",
   "execution_count": 15,
   "id": "ecb9e2d3",
   "metadata": {},
   "outputs": [
    {
     "name": "stdout",
     "output_type": "stream",
     "text": [
      "1 2\n",
      "7 5\n"
     ]
    }
   ],
   "source": [
    "# Assigning variables using tuples\n",
    "a,b = 1,2\n",
    "print(a,b)\n",
    "\n",
    "# You can also swap variables\n",
    "x, y = 5, 7\n",
    "y, x = x, y\n",
    "\n",
    "print(x,y)"
   ]
  },
  {
   "cell_type": "code",
   "execution_count": 17,
   "id": "b3af278c",
   "metadata": {},
   "outputs": [
    {
     "name": "stdout",
     "output_type": "stream",
     "text": [
      "6\n",
      "9\n"
     ]
    }
   ],
   "source": [
    "# Combination Operators\n",
    "x = 3\n",
    "x += 3\n",
    "print(x)\n",
    "\n",
    "y = 3\n",
    "y *= 3 # Analogous to y = y * 3\n",
    "print(y)"
   ]
  },
  {
   "cell_type": "code",
   "execution_count": 18,
   "id": "0a1eaa0c",
   "metadata": {
    "scrolled": true
   },
   "outputs": [
    {
     "name": "stdout",
     "output_type": "stream",
     "text": [
      "9\n"
     ]
    }
   ],
   "source": [
    "x = 3\n",
    "y = 2\n",
    "x **= y # Analogous to x = x ** y\n",
    "print(x)"
   ]
  },
  {
   "cell_type": "code",
   "execution_count": 19,
   "id": "07c36f40",
   "metadata": {},
   "outputs": [
    {
     "ename": "SyntaxError",
     "evalue": "invalid syntax (3660141018.py, line 2)",
     "output_type": "error",
     "traceback": [
      "\u001b[1;36m  Input \u001b[1;32mIn [19]\u001b[1;36m\u001b[0m\n\u001b[1;33m    return x = 0\u001b[0m\n\u001b[1;37m             ^\u001b[0m\n\u001b[1;31mSyntaxError\u001b[0m\u001b[1;31m:\u001b[0m invalid syntax\n"
     ]
    }
   ],
   "source": [
    "# Invalid code examples\n",
    "return x = 0"
   ]
  },
  {
   "cell_type": "code",
   "execution_count": 23,
   "id": "2453b6ba",
   "metadata": {},
   "outputs": [
    {
     "name": "stdout",
     "output_type": "stream",
     "text": [
      "True\n"
     ]
    }
   ],
   "source": [
    "# Usage of '==' to compare values\n",
    "x = 1\n",
    "def return_x():\n",
    "    return x == 1 #True\n",
    "print(return_x())"
   ]
  },
  {
   "cell_type": "markdown",
   "id": "c851cf9b",
   "metadata": {},
   "source": [
    "## If/else/elif statements"
   ]
  },
  {
   "cell_type": "markdown",
   "id": "7f446d51",
   "metadata": {},
   "source": [
    "### Elif is like else, but it uses a specific else case instead of considering all not-if statements\n",
    "### Else is always at the end, it considers all other cases aside from the if and elifs.\n",
    "### Ref Slide 30/55 - Redundant elif that cannot be reached"
   ]
  },
  {
   "cell_type": "code",
   "execution_count": null,
   "id": "3b50435d",
   "metadata": {},
   "outputs": [],
   "source": [
    "# Range Statements\n",
    "range(a,b) #All values from a to b, b excluded."
   ]
  },
  {
   "cell_type": "markdown",
   "id": "5bce4fd2",
   "metadata": {},
   "source": [
    "<h1 style='color:blue'>Cohort 1.2 Notes</h1>"
   ]
  },
  {
   "cell_type": "markdown",
   "id": "b39440d6",
   "metadata": {},
   "source": [
    "## PCDIT\n",
    "\n",
    "### Problem Statement (inputs? outputs? type? solution?)\n",
    "### Case (derive on paper the problems and expected solutions + boundary cases(e.g 0,1))\n",
    "### Design Algorithm (pseudocode to design algorithm)\n",
    "### Implementation (convert pseudocode to real code)\n",
    "### Testing (test on what makes algorithm fail)\n",
    "### Cleaning (clear up code)"
   ]
  },
  {
   "cell_type": "markdown",
   "id": "8070de49",
   "metadata": {},
   "source": [
    "<h1 style='color:red'>Error Message Notes</h1>\n",
    "\n",
    "### https://www.programiz.com/python-programming/exceptions\n",
    "\n",
    "### Check Professor's given document about different error types\n",
    "    \n",
    "### Important Error Notes\n",
    "    1. Modification of immutable data types such as tuples\n",
    "    2. Usage of reserved keywords(e.g 'print' cannot be used for assignment, else you lose the 'print' function)\n",
    "    3. Indentation has to be correct and CONSISTENT (Tab is different from 4 spaces, even though visually the same)\n",
    "    4. KeyboardInterrupt occurs when CTRL+C or interrupt kernal abruptly\n",
    "    5. Reference of variable before defining it causes an error\n",
    "    6. If an error message occurs of a nested function, it will first point to called function, go into nested function, point to specific line in the nested function.\n",
    "    7. If syntax error, make sure to look at above statement as well.\n",
    "    "
   ]
  },
  {
   "cell_type": "markdown",
   "id": "807338a3",
   "metadata": {},
   "source": [
    "<h2>Memory Management</h2>"
   ]
  },
  {
   "cell_type": "code",
   "execution_count": 9,
   "id": "4c796512",
   "metadata": {},
   "outputs": [
    {
     "name": "stdout",
     "output_type": "stream",
     "text": [
      "[3, 7]\n",
      "2909499491968\n",
      "2909382011248 2909382011376\n",
      "_________\n",
      "2909499491968\n",
      "2909382011376 2909382011248\n",
      "[7, 3]\n",
      "_________\n",
      "2909499491904\n",
      "2909382011248 2909382011376\n",
      "[3, 7]\n",
      "_________\n"
     ]
    }
   ],
   "source": [
    "# 2 ways of swapping elems\n",
    "ls = [3,7]\n",
    "print(ls)\n",
    "# Accessing address of an item\n",
    "print(id(ls))\n",
    "print(id(ls[0]), id(ls[1]))\n",
    "print('_________')\n",
    "\n",
    "ls[0], ls[1] = ls[1], ls[0]\n",
    "print(id(ls))\n",
    "print(id(ls[0]), id(ls[1]))\n",
    "print(ls)\n",
    "print('_________')\n",
    "\n",
    "\n",
    "ls = [ls[1]] + [ls[0]]\n",
    "print(id(ls))\n",
    "print(id(ls[0]), id(ls[1]))\n",
    "print(ls)\n",
    "print('_________')"
   ]
  },
  {
   "cell_type": "markdown",
   "id": "830b8f71",
   "metadata": {},
   "source": [
    "### Local variables only exist within a function and are deleted after the function is called. Global variables exist within whole program. "
   ]
  },
  {
   "cell_type": "code",
   "execution_count": 14,
   "id": "75734f7d",
   "metadata": {},
   "outputs": [
    {
     "name": "stdout",
     "output_type": "stream",
     "text": [
      "The value of n is 3\n",
      "The value of n is 1000\n"
     ]
    }
   ],
   "source": [
    "n = 1000\n",
    "\n",
    "def test(n):\n",
    "    n=3\n",
    "    print(f'The value of n is {n}')\n",
    "    \n",
    "test(1000)\n",
    "print(f'The value of n is {n}')"
   ]
  },
  {
   "cell_type": "code",
   "execution_count": 22,
   "id": "175af050",
   "metadata": {},
   "outputs": [
    {
     "name": "stdout",
     "output_type": "stream",
     "text": [
      "[2, 1]\n",
      "[1, 2]\n"
     ]
    }
   ],
   "source": [
    "# Example 2 - Action is done on local variable ls since this method creates a new list in memory temporarily\n",
    "ls = [1,2]\n",
    "\n",
    "def swapv1(ls):\n",
    "    ls = [ls[1]] + [ls[0]]\n",
    "    print(ls)\n",
    "\n",
    "swapv1(ls)\n",
    "print(ls)"
   ]
  },
  {
   "cell_type": "code",
   "execution_count": 25,
   "id": "7a6043d8",
   "metadata": {},
   "outputs": [
    {
     "name": "stdout",
     "output_type": "stream",
     "text": [
      "[2, 1]\n",
      "[2, 1]\n"
     ]
    }
   ],
   "source": [
    "# Example 3 - Action is done on global variable ls since this method references original list id of that of global variable\n",
    "            - Note that lists is stored in memory as a sequence of ID of elems it contains\n",
    "ls = [1,2]\n",
    "\n",
    "def swapv1(ls):\n",
    "    ls[1],ls[0] = ls[0],ls[1]\n",
    "    print(ls)\n",
    "\n",
    "swapv1(ls)\n",
    "print(ls)"
   ]
  },
  {
   "cell_type": "markdown",
   "id": "eeee0f03",
   "metadata": {},
   "source": [
    "#### To keep a local variable, you must assign it to a global variable."
   ]
  },
  {
   "cell_type": "code",
   "execution_count": 20,
   "id": "ede04405",
   "metadata": {},
   "outputs": [
    {
     "name": "stdout",
     "output_type": "stream",
     "text": [
      "The value of g is 3\n",
      "The value of n is 1000\n"
     ]
    }
   ],
   "source": [
    "n = 1000\n",
    "\n",
    "def test(n):\n",
    "    n=3\n",
    "    return n\n",
    "\n",
    "g = test(n)    \n",
    "test(1000)\n",
    "\n",
    "print(f'The value of g is {g}')\n",
    "print(f'The value of n is {n}')\n"
   ]
  },
  {
   "cell_type": "code",
   "execution_count": null,
   "id": "2879d6b8",
   "metadata": {},
   "outputs": [],
   "source": []
  }
 ],
 "metadata": {
  "kernelspec": {
   "display_name": "Python 3 (ipykernel)",
   "language": "python",
   "name": "python3"
  },
  "language_info": {
   "codemirror_mode": {
    "name": "ipython",
    "version": 3
   },
   "file_extension": ".py",
   "mimetype": "text/x-python",
   "name": "python",
   "nbconvert_exporter": "python",
   "pygments_lexer": "ipython3",
   "version": "3.9.12"
  }
 },
 "nbformat": 4,
 "nbformat_minor": 5
}
